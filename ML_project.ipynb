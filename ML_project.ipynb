{
  "nbformat": 4,
  "nbformat_minor": 0,
  "metadata": {
    "colab": {
      "name": "ML project.ipynb",
      "provenance": [],
      "collapsed_sections": []
    },
    "kernelspec": {
      "name": "python3",
      "display_name": "Python 3"
    },
    "language_info": {
      "name": "python"
    }
  },
  "cells": [
    {
      "cell_type": "code",
      "execution_count": null,
      "metadata": {
        "colab": {
          "base_uri": "https://localhost:8080/"
        },
        "id": "tcAfKmGK4VK1",
        "outputId": "ab7140c2-0ce9-473e-ff5d-f832a362cc4d"
      },
      "outputs": [
        {
          "output_type": "stream",
          "name": "stdout",
          "text": [
            "        RM  LSTAT  PTRATIO\n",
            "0    6.575   4.98     15.3\n",
            "1    6.421   9.14     17.8\n",
            "2    7.185   4.03     17.8\n",
            "3    6.998   2.94     18.7\n",
            "4    7.147   5.33     18.7\n",
            "..     ...    ...      ...\n",
            "484  6.593   9.67     21.0\n",
            "485  6.120   9.08     21.0\n",
            "486  6.976   5.64     21.0\n",
            "487  6.794   6.48     21.0\n",
            "488  6.030   7.88     21.0\n",
            "\n",
            "[489 rows x 3 columns]\n",
            "Boston housing dataset has 489 data points with 4 variables each.\n"
          ]
        }
      ],
      "source": [
        "import numpy as np\n",
        "import pandas as pd\n",
        "from sklearn.model_selection import train_test_split\n",
        "from sklearn.impute import SimpleImputer\n",
        "data = pd.read_csv('housing.csv')\n",
        "prices = data['MEDV']\n",
        "features = data.drop('MEDV', axis = 1)\n",
        "\n",
        "print(features)\n",
        "    \n",
        "# Success\n",
        "print(\"Boston housing dataset has {} data points with {} variables each.\".format(*data.shape))"
      ]
    },
    {
      "cell_type": "code",
      "source": [
        "from sklearn.model_selection import train_test_split\n",
        "from sklearn.impute import SimpleImputer\n",
        "X_train, X_valid, y_train, y_valid = train_test_split(features,prices, train_size=0.8, test_size=0.2,\n",
        "                                                      random_state=0)\n",
        "my_imputer = SimpleImputer()\n",
        "imputed_X_train = pd.DataFrame(my_imputer.fit_transform(X_train))\n",
        "imputed_X_valid = pd.DataFrame(my_imputer.transform(X_valid))\n",
        "imputed_X_train.columns = X_train.columns\n",
        "imputed_X_valid.columns = X_valid.columns"
      ],
      "metadata": {
        "id": "hlrKCZ5I6BeW"
      },
      "execution_count": null,
      "outputs": []
    },
    {
      "cell_type": "code",
      "source": [
        "from sklearn.tree import DecisionTreeRegressor\n",
        "from sklearn.metrics import mean_absolute_error\n",
        "def get_score(max_leaf_nodes,train_x,val_x,train_y,val_y):\n",
        "  model=DecisionTreeRegressor(max_leaf_nodes=max_leaf_nodes,random_state=0)\n",
        "  model.fit(train_x,train_y)\n",
        "  predict_val=model.predict(val_x)\n",
        "  score=mean_absolute_error(val_y,predict_val)\n",
        "  return score\n"
      ],
      "metadata": {
        "id": "eUeCZKQZAiUa"
      },
      "execution_count": null,
      "outputs": []
    },
    {
      "cell_type": "code",
      "source": [
        "for max_leaf_nodes in [5,50,60,100,200,500]:\n",
        "  score=get_score(max_leaf_nodes,imputed_X_train,imputed_X_valid,y_train,y_valid)\n",
        "  print(\"Max leaf nodes: %d \\t\\t Score: %d\"%(max_leaf_nodes,score))"
      ],
      "metadata": {
        "colab": {
          "base_uri": "https://localhost:8080/"
        },
        "id": "M6Qye9oFEatn",
        "outputId": "3a5d73c3-ae10-484c-e3ae-b5e98e4d10f6"
      },
      "execution_count": null,
      "outputs": [
        {
          "output_type": "stream",
          "name": "stdout",
          "text": [
            "Max leaf nodes: 5 \t\t Score: 68884\n",
            "Max leaf nodes: 50 \t\t Score: 61469\n",
            "Max leaf nodes: 60 \t\t Score: 63867\n",
            "Max leaf nodes: 100 \t\t Score: 71401\n",
            "Max leaf nodes: 200 \t\t Score: 75075\n",
            "Max leaf nodes: 500 \t\t Score: 76714\n"
          ]
        }
      ]
    },
    {
      "cell_type": "code",
      "source": [
        "max_leaf_nodes=50\n",
        "model=DecisionTreeRegressor(max_leaf_nodes=max_leaf_nodes,random_state=0)\n",
        "model.fit(imputed_X_train,y_train)\n",
        "predict_val=model.predict(imputed_X_valid)\n",
        "print(predict_val)\n"
      ],
      "metadata": {
        "colab": {
          "base_uri": "https://localhost:8080/"
        },
        "id": "0UBHo4GZceHE",
        "outputId": "3265440f-fba9-4319-d58e-0ed05b0c69fe"
      },
      "execution_count": null,
      "outputs": [
        {
          "output_type": "stream",
          "name": "stdout",
          "text": [
            "[428621.05263158 577800.         324240.         246900.\n",
            " 495950.         246900.         324240.         423658.06451613\n",
            " 423658.06451613 423658.06451613 246900.         314565.51724138\n",
            " 428621.05263158 168450.         545434.61538462 301875.\n",
            " 423658.06451613 648900.         411000.         648900.\n",
            " 644700.         779800.         289800.         428621.05263158\n",
            " 411000.         918750.         716100.         918750.\n",
            " 423658.06451613 423658.06451613 487200.         411000.\n",
            " 423658.06451613 686127.27272727 423658.06451613 789600.\n",
            " 495950.         189466.66666667 495950.         495950.\n",
            " 246900.         324240.         423658.06451613 495950.\n",
            " 346500.         369600.         495950.         314565.51724138\n",
            " 919800.         423658.06451613 686127.27272727 423658.06451613\n",
            " 545434.61538462 314565.51724138 716100.         545434.61538462\n",
            " 369600.         333900.         760200.         428621.05263158\n",
            " 321825.         246900.         411000.         411000.\n",
            " 423658.06451613 411000.         189466.66666667 545434.61538462\n",
            " 545434.61538462 246900.         289800.         495950.\n",
            " 369600.         545434.61538462 246900.         423658.06451613\n",
            " 644700.         314565.51724138 495950.         369600.\n",
            " 423658.06451613 976150.         428621.05263158 490700.\n",
            " 457800.         577800.         545434.61538462 495950.\n",
            " 423658.06451613 324240.         457800.         324240.\n",
            " 314565.51724138 314565.51724138 495950.         495950.\n",
            " 495950.         545434.61538462]\n"
          ]
        }
      ]
    },
    {
      "cell_type": "code",
      "source": [
        "score=mean_absolute_error(y_valid,predict_val)\n",
        "print(\"score:{}\".format(score))"
      ],
      "metadata": {
        "colab": {
          "base_uri": "https://localhost:8080/"
        },
        "id": "XlTpunjT22k2",
        "outputId": "56f07c3e-6f7e-4708-a3a9-a06b291d4dfb"
      },
      "execution_count": null,
      "outputs": [
        {
          "output_type": "stream",
          "name": "stdout",
          "text": [
            "score:61469.13968836063\n"
          ]
        }
      ]
    },
    {
      "cell_type": "markdown",
      "source": [
        "LOGISTIC REGRESSION\n"
      ],
      "metadata": {
        "id": "Q8suC566Fej1"
      }
    },
    {
      "cell_type": "code",
      "source": [
        "import matplotlib.pyplot as plt\n",
        "import numpy as np\n",
        "from sklearn.linear_model import LogisticRegression\n",
        "from sklearn.metrics import classification_report, confusion_matrix"
      ],
      "metadata": {
        "id": "DklsB7BQFjxh"
      },
      "execution_count": null,
      "outputs": []
    },
    {
      "cell_type": "code",
      "source": [
        "model = LogisticRegression(solver='liblinear', random_state=0)\n",
        "model.fit(imputed_X_train,y_train)\n",
        "model.predict_proba(imputed_X_valid)\n"
      ],
      "metadata": {
        "colab": {
          "base_uri": "https://localhost:8080/"
        },
        "id": "zM6dcC3oGG8r",
        "outputId": "d5af243c-1ffa-4736-8270-3dff2987e10a"
      },
      "execution_count": null,
      "outputs": [
        {
          "output_type": "execute_result",
          "data": {
            "text/plain": [
              "array([[7.98589449e-04, 3.00669328e-04, 1.35917291e-04, ...,\n",
              "        1.59639795e-04, 6.68303792e-05, 1.69207814e-05],\n",
              "       [9.87537908e-04, 1.32695078e-03, 8.44345877e-04, ...,\n",
              "        3.29107282e-03, 5.99017644e-03, 1.90356284e-02],\n",
              "       [1.81604264e-02, 1.46114057e-02, 1.89154427e-02, ...,\n",
              "        7.46320726e-10, 8.59522179e-09, 5.50881137e-05],\n",
              "       ...,\n",
              "       [6.05517441e-04, 3.38312186e-04, 1.57840029e-04, ...,\n",
              "        1.50573243e-03, 7.83337947e-04, 1.87284215e-04],\n",
              "       [9.26172248e-04, 3.77982232e-04, 1.74732335e-04, ...,\n",
              "        1.52481896e-04, 7.46429549e-05, 2.77416474e-05],\n",
              "       [5.60991838e-04, 4.39928435e-04, 2.18684388e-04, ...,\n",
              "        4.16754254e-03, 3.07345267e-03, 1.24205731e-03]])"
            ]
          },
          "metadata": {},
          "execution_count": 133
        }
      ]
    },
    {
      "cell_type": "code",
      "source": [
        "model.predict(imputed_X_valid)"
      ],
      "metadata": {
        "colab": {
          "base_uri": "https://localhost:8080/"
        },
        "id": "ajBWXtxrHDVn",
        "outputId": "d092d1eb-7ded-49ce-bf46-3776b5a551b9"
      },
      "execution_count": null,
      "outputs": [
        {
          "output_type": "execute_result",
          "data": {
            "text/plain": [
              "array([ 432600.,  499800.,  327600.,  373800.,  462000.,  373800.,\n",
              "        289800.,  485100.,  462000.,  485100.,  373800.,  485100.,\n",
              "        432600.,  289800.,  432600.,  485100.,  462000.,  462000.,\n",
              "        405300.,  525000.,  644700.,  525000.,  289800.,  432600.,\n",
              "        485100.,  732900., 1024800.,  732900.,  485100.,  485100.,\n",
              "        373800.,  373800.,  485100.,  732900.,  462000.,  732900.,\n",
              "        462000.,  289800.,  462000.,  525000.,  373800.,  327600.,\n",
              "        485100.,  525000.,  289800.,  485100.,  462000.,  405300.,\n",
              "        732900.,  485100.,  732900.,  485100.,  525000.,  405300.,\n",
              "        525000.,  525000.,  485100.,  373800.,  462000.,  432600.,\n",
              "        327600.,  373800.,  373800.,  373800.,  485100.,  373800.,\n",
              "        289800.,  525000.,  462000.,  373800.,  289800.,  525000.,\n",
              "        485100.,  525000.,  373800.,  485100.,  499800.,  373800.,\n",
              "        525000.,  485100.,  485100.,  732900.,  485100.,  462000.,\n",
              "        373800.,  462000.,  525000.,  525000.,  485100.,  327600.,\n",
              "        407400.,  306600.,  485100.,  373800.,  525000.,  525000.,\n",
              "        432600.,  525000.])"
            ]
          },
          "metadata": {},
          "execution_count": 134
        }
      ]
    },
    {
      "cell_type": "code",
      "source": [
        "confusion_matrix(y,model.predict(imputed_X_valid))"
      ],
      "metadata": {
        "colab": {
          "base_uri": "https://localhost:8080/"
        },
        "id": "1AiZ04WTHd-3",
        "outputId": "076f26c0-d365-4b92-e7b2-9f780cd99cee"
      },
      "execution_count": null,
      "outputs": [
        {
          "output_type": "execute_result",
          "data": {
            "text/plain": [
              "array([[0, 0, 0, ..., 0, 0, 0],\n",
              "       [0, 0, 0, ..., 0, 0, 0],\n",
              "       [0, 0, 0, ..., 0, 0, 0],\n",
              "       ...,\n",
              "       [0, 0, 0, ..., 0, 0, 0],\n",
              "       [0, 0, 0, ..., 0, 0, 0],\n",
              "       [0, 0, 0, ..., 0, 0, 0]])"
            ]
          },
          "metadata": {},
          "execution_count": 135
        }
      ]
    },
    {
      "cell_type": "code",
      "source": [
        "from sklearn import metrics\n",
        "\n",
        "confusion_matrix = metrics.confusion_matrix(y, model.predict(imputed_X_valid))\n",
        "\n",
        "cm_display = metrics.ConfusionMatrixDisplay(confusion_matrix = confusion_matrix, display_labels = [False, True])\n",
        "\n",
        "cm_display.plot()\n",
        "plt.show()"
      ],
      "metadata": {
        "colab": {
          "base_uri": "https://localhost:8080/",
          "height": 283
        },
        "id": "z3_JAretIdbB",
        "outputId": "68ca7668-8b8b-4764-f7ef-aad4687c1648"
      },
      "execution_count": null,
      "outputs": [
        {
          "output_type": "display_data",
          "data": {
            "text/plain": [
              "<Figure size 432x288 with 2 Axes>"
            ],
            "image/png": "[encoded data removed]"
          },
          "metadata": {
            "needs_background": "light"
          }
        }
      ]
    },
    {
      "cell_type": "code",
      "source": [
        "from sklearn.cluster import KMeans\n",
        "k_means = KMeans(n_clusters=3) \n",
        "k_means.fit(imputed_X_train,y_train)\n",
        "k_means.predict(imputed_X_valid,y_valid)\n"
      ],
      "metadata": {
        "colab": {
          "base_uri": "https://localhost:8080/"
        },
        "id": "GinlbDi_0gY3",
        "outputId": "17220abe-9971-470d-d63c-c3e01813bdd0"
      },
      "execution_count": null,
      "outputs": [
        {
          "output_type": "execute_result",
          "data": {
            "text/plain": [
              "array([1, 1, 2, 0, 1, 0, 2, 0, 1, 0, 2, 0, 1, 2, 1, 0, 0, 1, 0, 1, 1, 1,\n",
              "       2, 1, 0, 1, 1, 1, 0, 0, 0, 0, 1, 1, 0, 1, 1, 2, 1, 1, 2, 0, 0, 1,\n",
              "       2, 0, 1, 0, 1, 0, 1, 1, 1, 0, 1, 1, 0, 0, 1, 1, 0, 2, 0, 0, 0, 0,\n",
              "       2, 1, 1, 2, 2, 1, 0, 1, 2, 0, 1, 0, 1, 0, 0, 1, 1, 1, 0, 1, 1, 1,\n",
              "       1, 0, 0, 2, 0, 0, 1, 1, 1, 1], dtype=int32)"
            ]
          },
          "metadata": {},
          "execution_count": 137
        }
      ]
    }
  ]
}